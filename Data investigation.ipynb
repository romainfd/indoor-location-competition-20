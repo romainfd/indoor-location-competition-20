{
 "cells": [
  {
   "cell_type": "code",
   "execution_count": 1,
   "id": "47fb8d00",
   "metadata": {},
   "outputs": [],
   "source": [
    "%load_ext autoreload\n",
    "%autoreload 2"
   ]
  },
  {
   "cell_type": "code",
   "execution_count": 2,
   "id": "39747d0a",
   "metadata": {},
   "outputs": [
    {
     "ename": "ImportError",
     "evalue": "cannot import name 'split_ts_seq' from 'compute_f' (/Users/romainfouilland/code/cours/P3A/data/ilc2/compute_f.py)",
     "output_type": "error",
     "traceback": [
      "\u001B[0;31m---------------------------------------------------------------------------\u001B[0m",
      "\u001B[0;31mImportError\u001B[0m                               Traceback (most recent call last)",
      "Input \u001B[0;32mIn [2]\u001B[0m, in \u001B[0;36m<module>\u001B[0;34m\u001B[0m\n\u001B[1;32m      3\u001B[0m \u001B[38;5;28;01mfrom\u001B[39;00m \u001B[38;5;21;01mpathlib\u001B[39;00m \u001B[38;5;28;01mimport\u001B[39;00m Path\n\u001B[1;32m      6\u001B[0m \u001B[38;5;28;01mimport\u001B[39;00m \u001B[38;5;21;01mnumpy\u001B[39;00m \u001B[38;5;28;01mas\u001B[39;00m \u001B[38;5;21;01mnp\u001B[39;00m\n\u001B[0;32m----> 8\u001B[0m \u001B[38;5;28;01mfrom\u001B[39;00m \u001B[38;5;21;01mcompute_f\u001B[39;00m \u001B[38;5;28;01mimport\u001B[39;00m split_ts_seq, compute_step_positions\n\u001B[1;32m      9\u001B[0m \u001B[38;5;28;01mfrom\u001B[39;00m \u001B[38;5;21;01mio_f\u001B[39;00m \u001B[38;5;28;01mimport\u001B[39;00m read_data_file\n\u001B[1;32m     10\u001B[0m \u001B[38;5;28;01mfrom\u001B[39;00m \u001B[38;5;21;01mvisualize_f\u001B[39;00m \u001B[38;5;28;01mimport\u001B[39;00m visualize_trajectory, visualize_heatmap, save_figure_to_html\n",
      "\u001B[0;31mImportError\u001B[0m: cannot import name 'split_ts_seq' from 'compute_f' (/Users/romainfouilland/code/cours/P3A/data/ilc2/compute_f.py)"
     ]
    }
   ],
   "source": [
    "import json\n",
    "import os\n",
    "from pathlib import Path\n",
    "\n",
    "\n",
    "import numpy as np\n",
    "\n",
    "from compute_f import split_ts_seq, compute_step_positions\n",
    "from io_f import read_data_file\n",
    "from visualize_f import visualize_trajectory, visualize_heatmap, save_figure_to_html\n",
    "\n",
    "floor_data_dir = './data/site1/F1'\n",
    "path_data_dir = floor_data_dir + '/path_data_files'\n",
    "floor_plan_filename = floor_data_dir + '/floor_image.png'\n",
    "floor_info_filename = floor_data_dir + '/floor_info.json'\n",
    "\n",
    "save_dir = './output/site1/F1'\n",
    "path_image_save_dir = save_dir + '/path_images'\n",
    "step_position_image_save_dir = save_dir\n",
    "magn_image_save_dir = save_dir\n",
    "wifi_image_save_dir = save_dir + '/wifi_images'\n",
    "ibeacon_image_save_dir = save_dir + '/ibeacon_images'\n",
    "wifi_count_image_save_dir = save_dir"
   ]
  },
  {
   "cell_type": "code",
   "execution_count": null,
   "id": "0954b69d",
   "metadata": {},
   "outputs": [],
   "source": [
    "Path(path_image_save_dir).mkdir(parents=True, exist_ok=True)\n",
    "Path(magn_image_save_dir).mkdir(parents=True, exist_ok=True)\n",
    "Path(wifi_image_save_dir).mkdir(parents=True, exist_ok=True)\n",
    "Path(ibeacon_image_save_dir).mkdir(parents=True, exist_ok=True)\n",
    "\n",
    "with open(floor_info_filename) as f:\n",
    "    floor_info = json.load(f)\n",
    "width_meter = floor_info[\"map_info\"][\"width\"]\n",
    "height_meter = floor_info[\"map_info\"][\"height\"]"
   ]
  },
  {
   "cell_type": "markdown",
   "id": "2faac5dc",
   "metadata": {},
   "source": [
    "# Investigating a trace file"
   ]
  },
  {
   "cell_type": "code",
   "execution_count": null,
   "id": "03815767",
   "metadata": {},
   "outputs": [],
   "source": [
    "from tqdm.auto import tqdm\n",
    "from ipywidgets import interact, interactive, fixed, interact_manual\n",
    "import ipywidgets as widgets"
   ]
  },
  {
   "cell_type": "code",
   "execution_count": null,
   "id": "232b1b30",
   "metadata": {},
   "outputs": [],
   "source": [
    "path_filenames = list(Path(path_data_dir).resolve().glob(\"*.txt\"))\n",
    "path_filenames = path_filenames[:10]"
   ]
  },
  {
   "cell_type": "code",
   "execution_count": null,
   "id": "69b02538",
   "metadata": {},
   "outputs": [],
   "source": [
    "# Collect ground truth trajectories (path_id, [(time, x, y)])\n",
    "gts = []\n",
    "for path_filename in tqdm(path_filenames):\n",
    "    path_data = read_data_file(path_filename)\n",
    "    path_id = path_filename.name.split(\".\")[0]\n",
    "    gts.append((path_id, path_data.waypoint))"
   ]
  },
  {
   "cell_type": "code",
   "execution_count": null,
   "id": "de086361",
   "metadata": {},
   "outputs": [],
   "source": [
    "# Building figs\n",
    "figs = []\n",
    "for path_id, waypoint in tqdm(gts):\n",
    "    figs.append(visualize_trajectory(waypoint[:, 1:3], floor_plan_filename, width_meter, height_meter, title=path_id, show=False, plot_width=700))"
   ]
  },
  {
   "cell_type": "code",
   "execution_count": null,
   "id": "f9667671",
   "metadata": {},
   "outputs": [],
   "source": [
    "# Computing stats\n",
    "# ToDo: use integrations/helper.py > to_plt to convert data to Geolife plt file to use all Stats utils\n",
    "stats = []\n",
    "for _, waypoint in tqdm(gts):\n",
    "    # Collect nb of points, times between waypoints, speeds, ...\n",
    "    nb_points = len(waypoint)\n",
    "    pass"
   ]
  },
  {
   "cell_type": "code",
   "execution_count": null,
   "id": "2bec0f08",
   "metadata": {},
   "outputs": [],
   "source": [
    "@interact(\n",
    "    i=widgets.IntSlider(min=0, max=len(figs) - 1, step=1, value=5)\n",
    ")\n",
    "def show_path(i):\n",
    "    figs[i].show()"
   ]
  },
  {
   "cell_type": "code",
   "execution_count": null,
   "id": "f0a9a72a",
   "metadata": {},
   "outputs": [],
   "source": []
  },
  {
   "cell_type": "code",
   "execution_count": null,
   "id": "7d3adea6",
   "metadata": {},
   "outputs": [],
   "source": []
  },
  {
   "cell_type": "code",
   "execution_count": null,
   "id": "9906862c",
   "metadata": {},
   "outputs": [],
   "source": []
  },
  {
   "cell_type": "code",
   "execution_count": null,
   "id": "0c8384cf",
   "metadata": {},
   "outputs": [],
   "source": []
  }
 ],
 "metadata": {
  "kernelspec": {
   "display_name": "Python 3 (ipykernel)",
   "language": "python",
   "name": "python3"
  },
  "language_info": {
   "codemirror_mode": {
    "name": "ipython",
    "version": 3
   },
   "file_extension": ".py",
   "mimetype": "text/x-python",
   "name": "python",
   "nbconvert_exporter": "python",
   "pygments_lexer": "ipython3",
   "version": "3.9.10"
  }
 },
 "nbformat": 4,
 "nbformat_minor": 5
}